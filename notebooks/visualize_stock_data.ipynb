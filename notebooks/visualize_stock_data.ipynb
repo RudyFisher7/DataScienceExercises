{
 "cells": [
  {
   "cell_type": "code",
   "execution_count": 1,
   "id": "7b51679a-8ca0-4d90-a485-e595efccaa96",
   "metadata": {},
   "outputs": [
    {
     "name": "stdout",
     "output_type": "stream",
     "text": [
      "Requirement already satisfied: yfinance in c:\\dev\\python_projects\\crowdsourcing_short_squeeze_dashboard\\.venv\\lib\\site-packages (0.2.65)\n",
      "Requirement already satisfied: pandas>=1.3.0 in c:\\dev\\python_projects\\crowdsourcing_short_squeeze_dashboard\\.venv\\lib\\site-packages (from yfinance) (2.3.1)\n",
      "Requirement already satisfied: numpy>=1.16.5 in c:\\dev\\python_projects\\crowdsourcing_short_squeeze_dashboard\\.venv\\lib\\site-packages (from yfinance) (2.3.2)\n",
      "Requirement already satisfied: requests>=2.31 in c:\\dev\\python_projects\\crowdsourcing_short_squeeze_dashboard\\.venv\\lib\\site-packages (from yfinance) (2.32.4)\n",
      "Requirement already satisfied: multitasking>=0.0.7 in c:\\dev\\python_projects\\crowdsourcing_short_squeeze_dashboard\\.venv\\lib\\site-packages (from yfinance) (0.0.12)\n",
      "Requirement already satisfied: platformdirs>=2.0.0 in c:\\dev\\python_projects\\crowdsourcing_short_squeeze_dashboard\\.venv\\lib\\site-packages (from yfinance) (4.3.8)\n",
      "Requirement already satisfied: pytz>=2022.5 in c:\\dev\\python_projects\\crowdsourcing_short_squeeze_dashboard\\.venv\\lib\\site-packages (from yfinance) (2025.2)\n",
      "Requirement already satisfied: frozendict>=2.3.4 in c:\\dev\\python_projects\\crowdsourcing_short_squeeze_dashboard\\.venv\\lib\\site-packages (from yfinance) (2.4.6)\n",
      "Requirement already satisfied: peewee>=3.16.2 in c:\\dev\\python_projects\\crowdsourcing_short_squeeze_dashboard\\.venv\\lib\\site-packages (from yfinance) (3.18.2)\n",
      "Requirement already satisfied: beautifulsoup4>=4.11.1 in c:\\dev\\python_projects\\crowdsourcing_short_squeeze_dashboard\\.venv\\lib\\site-packages (from yfinance) (4.13.4)\n",
      "Requirement already satisfied: curl_cffi>=0.7 in c:\\dev\\python_projects\\crowdsourcing_short_squeeze_dashboard\\.venv\\lib\\site-packages (from yfinance) (0.13.0)\n",
      "Requirement already satisfied: protobuf>=3.19.0 in c:\\dev\\python_projects\\crowdsourcing_short_squeeze_dashboard\\.venv\\lib\\site-packages (from yfinance) (6.31.1)\n",
      "Requirement already satisfied: websockets>=13.0 in c:\\dev\\python_projects\\crowdsourcing_short_squeeze_dashboard\\.venv\\lib\\site-packages (from yfinance) (15.0.1)\n",
      "Requirement already satisfied: soupsieve>1.2 in c:\\dev\\python_projects\\crowdsourcing_short_squeeze_dashboard\\.venv\\lib\\site-packages (from beautifulsoup4>=4.11.1->yfinance) (2.7)\n",
      "Requirement already satisfied: typing-extensions>=4.0.0 in c:\\dev\\python_projects\\crowdsourcing_short_squeeze_dashboard\\.venv\\lib\\site-packages (from beautifulsoup4>=4.11.1->yfinance) (4.14.1)\n",
      "Requirement already satisfied: cffi>=1.12.0 in c:\\dev\\python_projects\\crowdsourcing_short_squeeze_dashboard\\.venv\\lib\\site-packages (from curl_cffi>=0.7->yfinance) (1.17.1)\n",
      "Requirement already satisfied: certifi>=2024.2.2 in c:\\dev\\python_projects\\crowdsourcing_short_squeeze_dashboard\\.venv\\lib\\site-packages (from curl_cffi>=0.7->yfinance) (2025.8.3)\n",
      "Requirement already satisfied: pycparser in c:\\dev\\python_projects\\crowdsourcing_short_squeeze_dashboard\\.venv\\lib\\site-packages (from cffi>=1.12.0->curl_cffi>=0.7->yfinance) (2.22)\n",
      "Requirement already satisfied: python-dateutil>=2.8.2 in c:\\dev\\python_projects\\crowdsourcing_short_squeeze_dashboard\\.venv\\lib\\site-packages (from pandas>=1.3.0->yfinance) (2.9.0.post0)\n",
      "Requirement already satisfied: tzdata>=2022.7 in c:\\dev\\python_projects\\crowdsourcing_short_squeeze_dashboard\\.venv\\lib\\site-packages (from pandas>=1.3.0->yfinance) (2025.2)\n",
      "Requirement already satisfied: six>=1.5 in c:\\dev\\python_projects\\crowdsourcing_short_squeeze_dashboard\\.venv\\lib\\site-packages (from python-dateutil>=2.8.2->pandas>=1.3.0->yfinance) (1.17.0)\n",
      "Requirement already satisfied: charset_normalizer<4,>=2 in c:\\dev\\python_projects\\crowdsourcing_short_squeeze_dashboard\\.venv\\lib\\site-packages (from requests>=2.31->yfinance) (3.4.3)\n",
      "Requirement already satisfied: idna<4,>=2.5 in c:\\dev\\python_projects\\crowdsourcing_short_squeeze_dashboard\\.venv\\lib\\site-packages (from requests>=2.31->yfinance) (3.10)\n",
      "Requirement already satisfied: urllib3<3,>=1.21.1 in c:\\dev\\python_projects\\crowdsourcing_short_squeeze_dashboard\\.venv\\lib\\site-packages (from requests>=2.31->yfinance) (2.5.0)\n",
      "Requirement already satisfied: bs4 in c:\\dev\\python_projects\\crowdsourcing_short_squeeze_dashboard\\.venv\\lib\\site-packages (0.0.2)\n",
      "Requirement already satisfied: beautifulsoup4 in c:\\dev\\python_projects\\crowdsourcing_short_squeeze_dashboard\\.venv\\lib\\site-packages (from bs4) (4.13.4)\n",
      "Requirement already satisfied: soupsieve>1.2 in c:\\dev\\python_projects\\crowdsourcing_short_squeeze_dashboard\\.venv\\lib\\site-packages (from beautifulsoup4->bs4) (2.7)\n",
      "Requirement already satisfied: typing-extensions>=4.0.0 in c:\\dev\\python_projects\\crowdsourcing_short_squeeze_dashboard\\.venv\\lib\\site-packages (from beautifulsoup4->bs4) (4.14.1)\n",
      "Requirement already satisfied: nbformat in c:\\dev\\python_projects\\crowdsourcing_short_squeeze_dashboard\\.venv\\lib\\site-packages (5.10.4)\n",
      "Requirement already satisfied: fastjsonschema>=2.15 in c:\\dev\\python_projects\\crowdsourcing_short_squeeze_dashboard\\.venv\\lib\\site-packages (from nbformat) (2.21.1)\n",
      "Requirement already satisfied: jsonschema>=2.6 in c:\\dev\\python_projects\\crowdsourcing_short_squeeze_dashboard\\.venv\\lib\\site-packages (from nbformat) (4.25.0)\n",
      "Requirement already satisfied: jupyter-core!=5.0.*,>=4.12 in c:\\dev\\python_projects\\crowdsourcing_short_squeeze_dashboard\\.venv\\lib\\site-packages (from nbformat) (5.8.1)\n",
      "Requirement already satisfied: traitlets>=5.1 in c:\\dev\\python_projects\\crowdsourcing_short_squeeze_dashboard\\.venv\\lib\\site-packages (from nbformat) (5.14.3)\n",
      "Requirement already satisfied: attrs>=22.2.0 in c:\\dev\\python_projects\\crowdsourcing_short_squeeze_dashboard\\.venv\\lib\\site-packages (from jsonschema>=2.6->nbformat) (25.3.0)\n",
      "Requirement already satisfied: jsonschema-specifications>=2023.03.6 in c:\\dev\\python_projects\\crowdsourcing_short_squeeze_dashboard\\.venv\\lib\\site-packages (from jsonschema>=2.6->nbformat) (2025.4.1)\n",
      "Requirement already satisfied: referencing>=0.28.4 in c:\\dev\\python_projects\\crowdsourcing_short_squeeze_dashboard\\.venv\\lib\\site-packages (from jsonschema>=2.6->nbformat) (0.36.2)\n",
      "Requirement already satisfied: rpds-py>=0.7.1 in c:\\dev\\python_projects\\crowdsourcing_short_squeeze_dashboard\\.venv\\lib\\site-packages (from jsonschema>=2.6->nbformat) (0.27.0)\n",
      "Requirement already satisfied: platformdirs>=2.5 in c:\\dev\\python_projects\\crowdsourcing_short_squeeze_dashboard\\.venv\\lib\\site-packages (from jupyter-core!=5.0.*,>=4.12->nbformat) (4.3.8)\n",
      "Requirement already satisfied: pywin32>=300 in c:\\dev\\python_projects\\crowdsourcing_short_squeeze_dashboard\\.venv\\lib\\site-packages (from jupyter-core!=5.0.*,>=4.12->nbformat) (311)\n",
      "Requirement already satisfied: plotly in c:\\dev\\python_projects\\crowdsourcing_short_squeeze_dashboard\\.venv\\lib\\site-packages (6.3.0)\n",
      "Requirement already satisfied: narwhals>=1.15.1 in c:\\dev\\python_projects\\crowdsourcing_short_squeeze_dashboard\\.venv\\lib\\site-packages (from plotly) (2.1.1)\n",
      "Requirement already satisfied: packaging in c:\\dev\\python_projects\\crowdsourcing_short_squeeze_dashboard\\.venv\\lib\\site-packages (from plotly) (25.0)\n"
     ]
    }
   ],
   "source": [
    "!pip install yfinance\n",
    "!pip install bs4\n",
    "!pip install nbformat\n",
    "!pip install --upgrade plotly"
   ]
  },
  {
   "cell_type": "code",
   "execution_count": 2,
   "id": "8a432b7a-dd55-4de3-a01b-8de7b61f3999",
   "metadata": {},
   "outputs": [],
   "source": [
    "import yfinance as yf\n",
    "import pandas as pd\n",
    "import requests\n",
    "from bs4 import BeautifulSoup\n",
    "import plotly.graph_objects as go\n",
    "from plotly.subplots import make_subplots"
   ]
  },
  {
   "cell_type": "code",
   "execution_count": 3,
   "id": "b32ef845-a255-4195-9400-3f9bc359a0d2",
   "metadata": {},
   "outputs": [],
   "source": [
    "import plotly.io as pio\n",
    "pio.renderers.default = 'iframe'"
   ]
  },
  {
   "cell_type": "code",
   "execution_count": 4,
   "id": "9c4f8c34-73f9-46bc-abf2-0fa8089622fa",
   "metadata": {},
   "outputs": [],
   "source": [
    "import warnings\n",
    "warnings.filterwarnings('ignore', category=FutureWarning)"
   ]
  },
  {
   "cell_type": "code",
   "execution_count": null,
   "id": "d3c50e28-56ba-4a94-b250-e57f6be39b83",
   "metadata": {},
   "outputs": [],
   "source": [
    "#TODO::  finish this Hands-on Lab: Analyzing Historical Stock/Revenue Data and Building a Dashboard"
   ]
  }
 ],
 "metadata": {
  "kernelspec": {
   "display_name": "Python 3 (ipykernel)",
   "language": "python",
   "name": "python3"
  },
  "language_info": {
   "codemirror_mode": {
    "name": "ipython",
    "version": 3
   },
   "file_extension": ".py",
   "mimetype": "text/x-python",
   "name": "python",
   "nbconvert_exporter": "python",
   "pygments_lexer": "ipython3",
   "version": "3.13.5"
  }
 },
 "nbformat": 4,
 "nbformat_minor": 5
}
